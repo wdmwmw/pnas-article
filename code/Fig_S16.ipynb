{
 "cells": [
  {
   "cell_type": "code",
   "execution_count": null,
   "metadata": {},
   "outputs": [],
   "source": [
    "import pandas as pd\n",
    "import matplotlib.pyplot as plt"
   ]
  },
  {
   "cell_type": "code",
   "execution_count": null,
   "metadata": {},
   "outputs": [],
   "source": [
    "fig=plt.figure(figsize=(12,6))\n",
    "df=pd.read_csv('D:Fig_S16/total.csv',encoding='gbk')\n",
    "time=list(df['time'])\n",
    "y1=list(df['original'])\n",
    "y2=list(df['new'])\n",
    "y3=list(df['common'])\n",
    "\n",
    "ax1=plt.subplot(111)\n",
    "ax1.plot(time,y1,c='green',marker='^',label='Core',linestyle='--',linewidth=1)\n",
    "ax1.plot(time,y2,c='red',marker='*',label='Core-1',linestyle='--',linewidth=1)\n",
    "ax1.plot(time,y3,c='blue',marker='x',label='common',linestyle='--',linewidth=1)\n",
    "ax1.set_xlabel('time',fontsize=15)\n",
    "ax1.set_ylabel('number of core components',fontsize=15)\n",
    "ax1.set_xticklabels(time, rotation=90,fontsize=15)\n",
    "ax1.set_yticklabels([0,5,10,15,20,25,30,35,40], fontsize=15)\n",
    "ax1.set_ylim([-0.5,43])\n",
    "ax1.set_yticklabels(['{:.0f}'.format(0),\n",
    "                     '{:.0f}'.format(0),\n",
    "                     '{:.0f}'.format(5),\n",
    "                     '{:.0f}'.format(10),\n",
    "                     '{:.0f}'.format(15),\n",
    "                     '{:.0f}'.format(20),\n",
    "                     '{:.0f}'.format(25),\n",
    "                      '{:.0f}'.format(30),\n",
    "                      '{:.0f}'.format(35),\n",
    "                      '{:.0f}'.format(40)], fontsize=15)\n",
    "\n",
    "df=pd.read_csv('D:Fig_S16/stability.csv',\n",
    "               encoding='gbk')\n",
    "time=list(df['time'])\n",
    "coreness_ratio=list(df['stability'])\n",
    "\n",
    "ax7=ax1.twinx()\n",
    "ax7.plot(time,coreness_ratio,c='skyblue',linestyle='--',marker='o',label='stability of the Core-1',linewidth=1)\n",
    "\n",
    "ax7.set_ylabel('stability of the Core-1',fontsize=15)\n",
    "ax7.set_ylim([-0.05,1.15])\n",
    "ax7.set_yticklabels(['{:.1f}'.format(0),\n",
    "                     '{:.1f}'.format(0),\n",
    "                     '{:.1f}'.format(0.2),\n",
    "                     '{:.1f}'.format(0.4),\n",
    "                     '{:.1f}'.format(0.6),\n",
    "                     '{:.1f}'.format(0.8),\n",
    "                     '{:.1f}'.format(1.0)], fontsize=15)\n",
    "handles1, labels1=ax1.get_legend_handles_labels()\n",
    "handles2, labels2=ax7.get_legend_handles_labels()\n",
    "\n",
    "\n",
    "font1 = { 'size': 15 }\n",
    "plt.legend(handles1+handles2,labels1+labels2,loc='lower center',\n",
    "           bbox_to_anchor=(0.48, -0.45),ncol=4,prop=font1 )\n",
    "plt.savefig('D:Fig_S16/FigS16.TIFF',dpi=300,bbox_inches='tight')\n",
    "plt.show()"
   ]
  }
 ],
 "metadata": {
  "kernelspec": {
   "display_name": "Python 3",
   "language": "python",
   "name": "python3"
  },
  "language_info": {
   "codemirror_mode": {
    "name": "ipython",
    "version": 3
   },
   "file_extension": ".py",
   "mimetype": "text/x-python",
   "name": "python",
   "nbconvert_exporter": "python",
   "pygments_lexer": "ipython3",
   "version": "3.8.3"
  }
 },
 "nbformat": 4,
 "nbformat_minor": 4
}
