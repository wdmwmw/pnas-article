{
 "cells": [
  {
   "cell_type": "code",
   "execution_count": null,
   "metadata": {},
   "outputs": [],
   "source": [
    "import pandas as pd\n",
    "import networkx as nx\n",
    "import matplotlib.pyplot as plt\n",
    "import numpy as np\n",
    "import os"
   ]
  },
  {
   "cell_type": "code",
   "execution_count": null,
   "metadata": {},
   "outputs": [],
   "source": [
    "#加权的rich club coefficient的以及对应度值以上的节点数量图示，以便选择哪些点作为核心\n",
    "file_path='D:Fig_S13/data/'\n",
    "files=os.listdir(file_path)\n",
    "files.sort(key=lambda x:int(x.split('/')[-1].split('_')[0]))\n",
    "\n",
    "fig = plt.figure(figsize=(21, 25))\n",
    "n=1\n",
    "#for i in range(len(files)-1):\n",
    "for i in range(len(files)):\n",
    "    time=files[i].replace('.csv','')\n",
    "    position=file_path+files[i]\n",
    "    df=pd.read_csv(position,encoding='gbk')\n",
    "    degree=list(df['degree'])\n",
    "    compare=[]\n",
    "    for s in range(len(degree)):\n",
    "        compare.append(1)\n",
    "    rc_w=list(df['rc'])\n",
    "    number=list(df['number'])\n",
    "    ax = fig.add_subplot(5,4,n)\n",
    "    ax.plot(degree,rc_w,linestyle='--',color='green',label='rich-club coefficient')\n",
    "    ax.plot(degree,compare,linestyle='--',color='blue',label='baseline')\n",
    "    plt.tick_params(axis='y',colors='green')\n",
    "    plt.xticks(fontsize=13)\n",
    "    plt.yticks(fontsize=13) \n",
    "    if n>=17:\n",
    "        ax.set_xlabel('degree',fontsize=15)\n",
    "    if n == 1 or n == 5 or n== 9 or n == 13 or n == 17:\n",
    "        ax.set_ylabel('rich-club coefficient',fontsize=15)\n",
    "    ax1=ax.twinx()\n",
    "    ax1.plot(degree,number,linestyle='--',color='red',label='number of components')\n",
    "    ax1.set_title(time,fontsize=15)\n",
    "    \n",
    "    plt.tick_params(axis='y',colors='red')\n",
    "    if n == 4 or n == 8 or n == 12 or n == 16 or n == 20:\n",
    "        ax1.set_ylabel('number of components',fontsize=15)\n",
    "    \n",
    "    plt.xticks(fontsize=13)\n",
    "    plt.yticks(fontsize=13) \n",
    "    \n",
    "    n+=1\n",
    "plt.subplots_adjust(left=None, bottom=0.3, right=None, top=None, wspace=0.36, hspace=0.38)\n",
    "handles1, labels1=ax.get_legend_handles_labels()\n",
    "handles2, labels2=ax1.get_legend_handles_labels()\n",
    "font1 = { 'size': 15 }\n",
    "plt.legend(handles1+handles2,labels1+labels2,loc='lower center',\n",
    "           bbox_to_anchor=(-1.5, -0.53),ncol=3,prop=font1 )\n",
    "#plt.savefig('D:data/rich_club/fig/pnas/weighted_coefficient_2016_0614.png',dpi=300,bbox_inches='tight')\n",
    "plt.savefig('D:Fig_S13/FigS13.TIFF',dpi=300,bbox_inches='tight')\n",
    "plt.show()"
   ]
  }
 ],
 "metadata": {
  "kernelspec": {
   "display_name": "Python 3",
   "language": "python",
   "name": "python3"
  },
  "language_info": {
   "codemirror_mode": {
    "name": "ipython",
    "version": 3
   },
   "file_extension": ".py",
   "mimetype": "text/x-python",
   "name": "python",
   "nbconvert_exporter": "python",
   "pygments_lexer": "ipython3",
   "version": "3.8.3"
  }
 },
 "nbformat": 4,
 "nbformat_minor": 4
}
