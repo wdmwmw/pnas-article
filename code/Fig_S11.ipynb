{
 "cells": [
  {
   "cell_type": "code",
   "execution_count": null,
   "metadata": {},
   "outputs": [],
   "source": [
    "df=pd.read_csv('D:Fig_S11/core_and_hub.csv',encoding='gbk')\n",
    "total_herb=list(df['herb'])\n",
    "degree=list(df['degree'])\n",
    "core=list(df['core'])\n",
    "idx=degree.index(199)\n",
    "total_herb=total_herb[0:idx]\n",
    "total_degree=degree[0:idx]\n",
    "core=core[0:idx]\n",
    "fig=plt.figure(figsize=(8,6))\n",
    "for i in range(len(core)):\n",
    "    if core[i]==2:\n",
    "        plt.scatter(total_herb[i],total_degree[i],s=12,c='red',marker='*')\n",
    "    elif core[i]==1:\n",
    "        plt.scatter(total_herb[i],total_degree[i],s=12,c='green',marker='D')\n",
    "    else:\n",
    "        plt.scatter(total_herb[i],total_degree[i],s=2,c='blue',marker='o')\n",
    "plt.scatter(total_herb[0],total_degree[0],s=12,c='red',marker='*',label='core in FCCS')\n",
    "plt.scatter(total_herb[14],total_degree[14],s=12,c='green',marker='D',label='core in PCCS not in FCCS')\n",
    "plt.scatter(total_herb[100],total_degree[100],s=2,c='blue',marker='o',label='not core')\n",
    "plt.rcParams['font.sans-serif']=['SimHei']\n",
    "plt.rcParams['axes.unicode_minus'] = False\n",
    "plt.xticks([])\n",
    "plt.xlabel('components',fontsize=16)\n",
    "plt.ylabel('degree',fontsize=16)\n",
    "plt.legend(loc='lower center',\n",
    "           bbox_to_anchor=(0.48, -0.15),ncol=3)\n",
    "#plt.savefig('D:data/core_and_hub/core_and_hub_sub.png',dpi=300,bbox_inches='tight')\n",
    "plt.savefig('D:Fig_S11/FigS11.TIFF',dpi=300,bbox_inches='tight')\n",
    "plt.show()"
   ]
  }
 ],
 "metadata": {
  "kernelspec": {
   "display_name": "Python 3",
   "language": "python",
   "name": "python3"
  },
  "language_info": {
   "codemirror_mode": {
    "name": "ipython",
    "version": 3
   },
   "file_extension": ".py",
   "mimetype": "text/x-python",
   "name": "python",
   "nbconvert_exporter": "python",
   "pygments_lexer": "ipython3",
   "version": "3.8.3"
  }
 },
 "nbformat": 4,
 "nbformat_minor": 4
}
