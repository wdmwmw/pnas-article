{
 "cells": [
  {
   "cell_type": "code",
   "execution_count": null,
   "metadata": {},
   "outputs": [],
   "source": [
    "import pandas as pd\n",
    "import matplotlib.pyplot as plt"
   ]
  },
  {
   "cell_type": "code",
   "execution_count": null,
   "metadata": {},
   "outputs": [],
   "source": [
    "correlation_df=pd.read_csv('D:Fig_S10/correlation.csv',encoding='gbk')\n",
    "time=list(correlation_df['time'])\n",
    "correlation=list(correlation_df['correlation'])\n",
    "core_corr=list(correlation_df['core_correlation'])\n",
    "fig=plt.figure(figsize=(12,6))\n",
    "ax1=plt.subplot(1,1,1)\n",
    "\n",
    "ax1.set_ylim([-0.05,1.15])\n",
    "ax1.plot(time,correlation,c='blue',marker='o',linestyle='--',label='identification of coreness')\n",
    "ax1.set_xlabel('time',fontsize=20)\n",
    "ax1.set_ylabel(' maximum correlation between\\ndata matrix and pattern matrix',fontsize=20)\n",
    "\n",
    "ax1.set_yticklabels(['{:.1f}'.format(0.0),\n",
    "                     '{:.1f}'.format(0.0),\n",
    "                     '{:.1f}'.format(0.2),\n",
    "                     '{:.1f}'.format(0.4),\n",
    "                     '{:.1f}'.format(0.6),\n",
    "                     '{:.1f}'.format(0.8),\n",
    "                     '{:.1f}'.format(1.0)], fontsize=16)\n",
    "\n",
    "ax1.set_xticklabels(time,rotation=90,fontsize=16)\n",
    "ax1.axvline(0,ls=\"--\",linewidth=0.3,c=\"black\")\n",
    "ax1.axvline(1.2,ls=\"--\",linewidth=0.3,c=\"black\")\n",
    "ax1.axvline(4.81,ls=\"--\",linewidth=0.3,c=\"black\")\n",
    "ax1.axvline(8.6,ls=\"--\",linewidth=0.3,c=\"black\")\n",
    "ax1.axvline(12.68,ls=\"--\",linewidth=0.3,c=\"black\")\n",
    "ax1.axvline(15.44,ls=\"--\",linewidth=0.3,c=\"black\")\n",
    "ax1.axvline(18.11,ls=\"--\",linewidth=0.3,c=\"black\")\n",
    "ax1.axvline(19,ls=\"--\",linewidth=0.3,c=\"black\")\n",
    "\n",
    "ax1.text(-0.15,1.00,'before the\\nend of Han\\n Dynasty'.center(1),fontsize=12)\n",
    "ax1.text(2.1,0.94,'Wei,Jin,\\nSouthern and\\nNorthern\\nDynasties'.center(3),fontsize=12)\n",
    "ax1.text(6.1,1.00,'Sui,Tang\\nand Five\\nDynasties'.center(8),fontsize=12)\n",
    "ax1.text(10,1.00,'Song,Jin\\nand Yuan\\nDynasties'.center(11),fontsize=12)\n",
    "ax1.text(13.8,1.03,'Ming\\nDynasty'.center(14),fontsize=12)\n",
    "ax1.text(16,1.03,'Qing\\nDynasty'.center(16),fontsize=12)\n",
    "ax1.text(18.1,1.03,'Modern\\nTimes',fontsize=12)\n",
    "\n",
    "plt.savefig('D:Fig_S10/FigS10.TIFF',dpi=300,bbox_inches='tight')\n",
    "plt.show()"
   ]
  }
 ],
 "metadata": {
  "kernelspec": {
   "display_name": "Python 3",
   "language": "python",
   "name": "python3"
  },
  "language_info": {
   "codemirror_mode": {
    "name": "ipython",
    "version": 3
   },
   "file_extension": ".py",
   "mimetype": "text/x-python",
   "name": "python",
   "nbconvert_exporter": "python",
   "pygments_lexer": "ipython3",
   "version": "3.8.3"
  }
 },
 "nbformat": 4,
 "nbformat_minor": 4
}
