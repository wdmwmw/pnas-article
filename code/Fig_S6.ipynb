{
 "cells": [
  {
   "cell_type": "code",
   "execution_count": null,
   "metadata": {},
   "outputs": [],
   "source": [
    "import pandas as pd\n",
    "import matplotlib.pyplot as plt"
   ]
  },
  {
   "cell_type": "code",
   "execution_count": null,
   "metadata": {},
   "outputs": [],
   "source": [
    "df=pd.read_csv('D:Fig_S6/abandoned_components_degree.csv',encoding='gbk')\n",
    "herb=list(df['herb'])\n",
    "disappear=list(df['end'])\n",
    "degree=list(df['degree'])\n",
    "d_herb=[]\n",
    "d_degree=[]\n",
    "for i in range(len(herb)):\n",
    "    if disappear[i] <= 1950:\n",
    "        d_herb.append(herb[i])\n",
    "        d_degree.append(degree[i])\n",
    "dg=list(set(d_degree))\n",
    "fre=[]\n",
    "for item in dg:\n",
    "    x=[i for (i,j) in enumerate(d_degree) if j == item]\n",
    "    fre.append(len(x))\n",
    "fig=plt.figure(figsize=(15,10))\n",
    "x=np.array(dg)\n",
    "y=np.array(fre)\n",
    "plt.scatter(x,y,c='blue',marker='^',label='formula number',linestyle='--')\n",
    "plt.xlabel('components degree',fontsize=20)\n",
    "plt.ylabel('number of abandoned components',fontsize=20)\n",
    "\n",
    "plt.xticks(fontsize=16)\n",
    "plt.yticks(fontsize=16)\n",
    "plt.grid()\n",
    "plt.savefig('D:Fig_S6/FigS6.TIFF',dpi=300,bbox_inches='tight')"
   ]
  }
 ],
 "metadata": {
  "kernelspec": {
   "display_name": "Python 3",
   "language": "python",
   "name": "python3"
  },
  "language_info": {
   "codemirror_mode": {
    "name": "ipython",
    "version": 3
   },
   "file_extension": ".py",
   "mimetype": "text/x-python",
   "name": "python",
   "nbconvert_exporter": "python",
   "pygments_lexer": "ipython3",
   "version": "3.8.3"
  }
 },
 "nbformat": 4,
 "nbformat_minor": 4
}
