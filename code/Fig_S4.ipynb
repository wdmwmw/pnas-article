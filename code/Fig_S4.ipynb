{
 "cells": [
  {
   "cell_type": "code",
   "execution_count": null,
   "metadata": {},
   "outputs": [],
   "source": [
    "import pandas as pd\n",
    "import matplotlib.pyplot as plt"
   ]
  },
  {
   "cell_type": "code",
   "execution_count": null,
   "metadata": {},
   "outputs": [],
   "source": [
    "df1=pd.read_csv('D:Fig_S4/2_tuple.csv',encoding='gbk')\n",
    "df2=pd.read_csv('D:Fig_S4/3_tuple.csv',encoding='gbk')\n",
    "df3=pd.read_csv('D:Fig_S4/4_tuple.csv',encoding='gbk')\n",
    "df4=pd.read_csv('D:Fig_S4/5_tuple.csv',encoding='gbk')\n",
    "df5=pd.read_csv('D:Fig_S4/6_tuple.csv',encoding='gbk')\n",
    "\n",
    "number_1=list(df1['number'])\n",
    "number_2=list(df2['number'])\n",
    "number_3=list(df3['number'])\n",
    "number_4=list(df4['number'])\n",
    "number_5=list(df5['number'])\n",
    "max_number=[max(number_1),max(number_2),max(number_3),max(number_4),max(number_5)]\n",
    "ave_number=[np.mean(number_1),np.mean(number_2),np.mean(number_3),np.mean(number_4),np.mean(number_5)]\n",
    "min_number=[min(number_1),min(number_2),min(number_3),min(number_4),min(number_5)]\n",
    "\n",
    "number=[]\n",
    "tuples1=[]\n",
    "for item in number_1:\n",
    "    number.append(item)\n",
    "    tuples1.append('2-tuples')\n",
    "for item in number_2:\n",
    "    number.append(item)\n",
    "    tuples1.append('3-tuples')\n",
    "for item in number_3:\n",
    "    number.append(item)\n",
    "    tuples1.append('4-tuples')\n",
    "for item in number_4:\n",
    "    number.append(item)\n",
    "    tuples1.append('5-tuples')\n",
    "for item in number_5:\n",
    "    number.append(item)\n",
    "    tuples1.append('6-tuples')\n",
    "    \n",
    "tuples=['2-tuples','3-tuples','4-tuples','5-tuples','6-tuples']\n",
    "tuple_len=[len(df1),len(df2),len(df3),len(df4),len(df5)]\n",
    "fig = plt.figure(figsize=(8,12))\n",
    "ax1=plt.subplot(2,1,1)\n",
    "\n",
    "#ax1.scatter(tuples,tuple_len,s=1)\n",
    "\n",
    "ax1.plot(tuples,tuple_len,c='black',linestyle='-',linewidth=0.5,\n",
    "         label='number of tuples')\n",
    "ax1.set_xlabel('tuples',fontsize=10)\n",
    "ax1.set_ylabel('number of tuples',fontsize=10)\n",
    "\n",
    "ax2=ax1.twinx()\n",
    "\n",
    "ax2.scatter(tuples,max_number,c='blue', s=1)\n",
    "ax2.plot(tuples,max_number,c='black',linestyle='--',linewidth=0.5,\n",
    "         label='max frequency of tuples')\n",
    "ax2.scatter(tuples,ave_number,c='blue',s=1)\n",
    "\n",
    "ax2.plot(tuples,ave_number,c='black',linestyle='-.',linewidth=0.5,\n",
    "         label='average frequency of tuples')\n",
    "ax2.set_ylabel('frequency of tuples',fontsize=10)\n",
    "ax2.plot(tuples,min_number,c='black',linestyle=':',linewidth=0.5,\n",
    "         label='min frequency of tuples')\n",
    "ax2.scatter(tuples,min_number,c='blue',s=1)\n",
    "ax2.scatter(tuples1,number,c='blue',alpha=0.5,s=1,label='tuples')\n",
    "handles1, labels1=ax1.get_legend_handles_labels()\n",
    "handles2, labels2=ax2.get_legend_handles_labels()\n",
    "plt.legend(handles1+handles2,labels1+labels2,loc='lower center',\n",
    "           bbox_to_anchor=(0.48, -0.25),ncol=3)\n",
    "plt.savefig('D:data/paper_1/method_1/pnas_fig/FigS4.TIFF',\n",
    "            dpi=300,bbox_inches='tight')\n",
    "plt.show()"
   ]
  }
 ],
 "metadata": {
  "kernelspec": {
   "display_name": "Python 3",
   "language": "python",
   "name": "python3"
  },
  "language_info": {
   "codemirror_mode": {
    "name": "ipython",
    "version": 3
   },
   "file_extension": ".py",
   "mimetype": "text/x-python",
   "name": "python",
   "nbconvert_exporter": "python",
   "pygments_lexer": "ipython3",
   "version": "3.8.3"
  }
 },
 "nbformat": 4,
 "nbformat_minor": 4
}
