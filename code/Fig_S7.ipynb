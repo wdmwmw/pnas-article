{
 "cells": [
  {
   "cell_type": "code",
   "execution_count": null,
   "metadata": {},
   "outputs": [],
   "source": [
    "import pandas as pd\n",
    "import numpy as np\n",
    "import matplotlib.pyplot as plt\n",
    "import seaborn as sns\n",
    "#sns.set()\n",
    "from collections import Counter\n",
    "from collections import defaultdict\n",
    "df=pd.read_csv('D:Fig_S7/strength_threshold_pair_number.csv',encoding='gbk')\n",
    "pair_number=list(df['number'])\n",
    "threshold=list(df['threshold'])\n",
    "ax3=plt.subplot(1,1,1)\n",
    "ax3.plot(threshold,pair_number)\n",
    "ax3.set_xlabel('threshold of co-occurrence strength',fontsize=12)\n",
    "ax3.set_ylabel('number of components pairs',fontsize=12)\n",
    "ax3.grid(color = 'black', linestyle = ':', linewidth = 0.2)\n",
    "ax3.set_facecolor('white')\n",
    "ax3.spines['top'].set_visible(True)\n",
    "ax3.spines[\"top\"].set_color(\"black\")\n",
    "ax3.spines['right'].set_visible(True)\n",
    "ax3.spines[\"right\"].set_color(\"black\")\n",
    "ax3.spines['bottom'].set_visible(True)\n",
    "ax3.spines[\"bottom\"].set_color(\"black\")\n",
    "ax3.spines['left'].set_visible(True)\n",
    "ax3.spines[\"left\"].set_color(\"black\")\n",
    "plt.savefig('D:Fig_S7/FigS7.TIFF',dpi=300,bbox_inches='tight')\n",
    "plt.show()"
   ]
  }
 ],
 "metadata": {
  "kernelspec": {
   "display_name": "Python 3",
   "language": "python",
   "name": "python3"
  },
  "language_info": {
   "codemirror_mode": {
    "name": "ipython",
    "version": 3
   },
   "file_extension": ".py",
   "mimetype": "text/x-python",
   "name": "python",
   "nbconvert_exporter": "python",
   "pygments_lexer": "ipython3",
   "version": "3.8.3"
  }
 },
 "nbformat": 4,
 "nbformat_minor": 4
}
