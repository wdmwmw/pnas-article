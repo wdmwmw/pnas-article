{
 "cells": [
  {
   "cell_type": "code",
   "execution_count": null,
   "metadata": {},
   "outputs": [],
   "source": [
    "import pandas as pd\n",
    "import matplotlib.pyplot as plt"
   ]
  },
  {
   "cell_type": "code",
   "execution_count": null,
   "metadata": {},
   "outputs": [],
   "source": [
    "df=pd.read_csv('D:Fig_S17/2_tuple.csv',encoding='gbk')\n",
    "df.set_index('tuple',inplace=True)\n",
    "time=list(df.columns)\n",
    "fig=plt.figure(figsize=(24,14))\n",
    "ax1=fig.add_subplot(231)\n",
    "for i in range(len(df)):\n",
    "    ax1.plot(time,list(df.iloc[i,:]),c='black',linewidth=0.2 )\n",
    "ax1.set_xlabel('time',fontsize=16)\n",
    "ax1.set_ylabel('numbers of formulars including\\n different 2-tuples',fontsize=16)\n",
    "plt.yticks(fontsize=16)\n",
    "plt.xticks(rotation=90,fontsize=16)\n",
    "\n",
    "df=pd.read_csv('D:Fig_S17/3_tuple.csv',encoding='gbk')\n",
    "df.set_index('tuple',inplace=True)\n",
    "time=list(df.columns)\n",
    "\n",
    "ax1=fig.add_subplot(232)\n",
    "for i in range(len(df)):\n",
    "    ax1.plot(time,list(df.iloc[i,:]),c='black',linewidth=0.2 )\n",
    "ax1.set_xlabel('time',fontsize=16)\n",
    "ax1.set_ylabel('numbers of formulars including\\n different 3-tuples',fontsize=16)\n",
    "plt.yticks(fontsize=16)\n",
    "plt.xticks(rotation=90,fontsize=16)\n",
    "\n",
    "df=pd.read_csv('D:Fig_S17/4_tuple.csv',encoding='gbk')\n",
    "df.set_index('tuple',inplace=True)\n",
    "time=list(df.columns)\n",
    "\n",
    "ax1=fig.add_subplot(233)\n",
    "for i in range(len(df)):\n",
    "    ax1.plot(time,list(df.iloc[i,:]),c='black',linewidth=0.2 )\n",
    "ax1.set_xlabel('time',fontsize=16)\n",
    "ax1.set_ylabel('numbers of formulars including\\n different 4-tuples',fontsize=16)\n",
    "plt.yticks(fontsize=16)\n",
    "plt.xticks(rotation=90,fontsize=16)\n",
    "\n",
    "df=pd.read_csv('D:Fig_S17/5_tuple.csv',encoding='gbk')\n",
    "df.set_index('tuple',inplace=True)\n",
    "time=list(df.columns)\n",
    "\n",
    "ax1=fig.add_subplot(234)\n",
    "for i in range(len(df)):\n",
    "    ax1.plot(time,list(df.iloc[i,:]),c='black',linewidth=0.2 )\n",
    "ax1.set_xlabel('time',fontsize=16)\n",
    "ax1.set_ylabel('numbers of formulars including\\n different 5-tuples',fontsize=16)\n",
    "plt.yticks(fontsize=16)\n",
    "plt.xticks(rotation=90,fontsize=16)\n",
    "\n",
    "df=pd.read_csv('D:Fig_S17/6_tuple.csv',encoding='gbk')\n",
    "df.set_index('tuple',inplace=True)\n",
    "time=list(df.columns)\n",
    "\n",
    "ax1=fig.add_subplot(235)\n",
    "for i in range(len(df)):\n",
    "    ax1.plot(time,list(df.iloc[i,:]),c='black',linewidth=0.2 )\n",
    "ax1.set_xlabel('time',fontsize=16)\n",
    "ax1.set_ylabel(f'numbers of formulars including\\n different 6-tuples',fontsize=16)\n",
    "plt.yticks(fontsize=16)\n",
    "plt.xticks(rotation=90,fontsize=16)\n",
    "plt.subplots_adjust(left=0.2, bottom=0.2, right=0.9, top=None, wspace=0.3, hspace=0.50)\n",
    "plt.savefig('D:Fig_S17/FigS17.TIFF',dpi=300,bbox_inches='tight')\n",
    "plt.show()"
   ]
  }
 ],
 "metadata": {
  "kernelspec": {
   "display_name": "Python 3",
   "language": "python",
   "name": "python3"
  },
  "language_info": {
   "codemirror_mode": {
    "name": "ipython",
    "version": 3
   },
   "file_extension": ".py",
   "mimetype": "text/x-python",
   "name": "python",
   "nbconvert_exporter": "python",
   "pygments_lexer": "ipython3",
   "version": "3.8.3"
  }
 },
 "nbformat": 4,
 "nbformat_minor": 4
}
